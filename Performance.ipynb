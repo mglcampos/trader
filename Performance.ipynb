{
 "cells": [
  {
   "cell_type": "code",
   "execution_count": 3,
   "metadata": {
    "collapsed": false
   },
   "outputs": [],
   "source": [
    "from highcharts import Highstock\n",
    "from highcharts.highstock.highstock_helper import jsonp_loader\n",
    "import datetime\n",
    "import warnings\n",
    "warnings.filterwarnings(\"ignore\", module=\"matplotlib\")\n",
    "\n",
    "import numpy as np\n",
    "import pandas as pd\n",
    "\n",
    "import math\n",
    "import os\n",
    "\n",
    "H = Highstock()\n",
    "granularity = 'M1'\n",
    "csv_dir = '/home/user/Desktop/algotrader/' + granularity + '/'\n",
    "symbol_list = ['EUR/AUD']\n",
    "\n",
    "s = symbol_list[0].replace(\"/\", \"\")  ##remove '/' from the string\n",
    "filename = s + '_M15_2016'\n",
    "s_month = \"_M15_2016\"\n",
    "s_file = s + s_month"
   ]
  },
  {
   "cell_type": "code",
   "execution_count": 7,
   "metadata": {
    "collapsed": false
   },
   "outputs": [
    {
     "name": "stdout",
     "output_type": "stream",
     "text": [
      "                   Buy     Sell  Close  Sharpe         Max_Drawdown  \\\n",
      "0  2016-01-25 02:01:00  1.54296    NaN     NaN  2016-01-27 09:31:00   \n",
      "1  2016-01-27 10:16:00  1.54559    NaN     NaN  2016-01-27 11:46:00   \n",
      "2  2016-01-27 14:01:00  1.55013    NaN     NaN  2016-01-27 21:01:00   \n",
      "3  2016-01-28 06:31:00  1.54549    NaN     NaN  2016-01-28 07:31:00   \n",
      "4  2016-01-28 08:16:00  1.54409    NaN     NaN  2016-01-28 09:16:00   \n",
      "\n",
      "   Drawdown_Duration  \n",
      "0            1.54084  \n",
      "1            1.53615  \n",
      "2            1.54508  \n",
      "3            1.54234  \n",
      "4            1.53523  \n"
     ]
    }
   ],
   "source": [
    "df = pd.io.parsers.read_csv(\n",
    "                os.path.join('/home/user/Desktop/algotrader/sandbox/' + filename), usecols=['Close', 'Day', 'Time'],\n",
    "                                    parse_dates=True,\n",
    "                                    names=['Type', 'Day', 'Time', 'Open', 'Max', 'Min', 'Close']\n",
    "                                    )\n",
    "\n",
    "report = 'report'\n",
    "s_file = s + '_report'\n",
    "\n",
    "df2 =  pd.io.parsers.read_csv(os.path.join('/home/user/Desktop/algotrader/', '% s.csv' % s_file),\n",
    "                                    parse_dates=True,\n",
    "                                    names=['Buy', 'Sell', 'Close', 'Sharpe', 'Max_Drawdown', 'Drawdown_Duration']\n",
    "                                    )\n",
    "\n",
    "\n",
    "print(df2.head())"
   ]
  },
  {
   "cell_type": "code",
   "execution_count": 5,
   "metadata": {
    "collapsed": false
   },
   "outputs": [
    {
     "ename": "ValueError",
     "evalue": "time data '1.54296' does not match format '%Y-%m-%d %H:%M:%S'",
     "output_type": "error",
     "traceback": [
      "\u001b[0;31m---------------------------------------------------------------------------\u001b[0m",
      "\u001b[0;31mValueError\u001b[0m                                Traceback (most recent call last)",
      "\u001b[0;32m<ipython-input-5-ee507d261e51>\u001b[0m in \u001b[0;36m<module>\u001b[0;34m()\u001b[0m\n\u001b[1;32m     38\u001b[0m         \u001b[0mbuy_data\u001b[0m\u001b[0;34m.\u001b[0m\u001b[0mappend\u001b[0m\u001b[0;34m(\u001b[0m\u001b[0mbuy_flag\u001b[0m\u001b[0;34m)\u001b[0m\u001b[0;34m\u001b[0m\u001b[0m\n\u001b[1;32m     39\u001b[0m     \u001b[0;32mif\u001b[0m \u001b[0;32mnot\u001b[0m \u001b[0mstr\u001b[0m\u001b[0;34m(\u001b[0m\u001b[0mir\u001b[0m\u001b[0;34m[\u001b[0m\u001b[0;36m2\u001b[0m\u001b[0;34m]\u001b[0m\u001b[0;34m)\u001b[0m \u001b[0;34m==\u001b[0m \u001b[0;34m'nan'\u001b[0m\u001b[0;34m:\u001b[0m\u001b[0;34m\u001b[0m\u001b[0m\n\u001b[0;32m---> 40\u001b[0;31m         \u001b[0msell_flag\u001b[0m \u001b[0;34m=\u001b[0m \u001b[0;34m{\u001b[0m\u001b[0;34m'x'\u001b[0m \u001b[0;34m:\u001b[0m \u001b[0mdatetime\u001b[0m\u001b[0;34m.\u001b[0m\u001b[0mdatetime\u001b[0m\u001b[0;34m.\u001b[0m\u001b[0mstrptime\u001b[0m\u001b[0;34m(\u001b[0m\u001b[0mstr\u001b[0m\u001b[0;34m(\u001b[0m\u001b[0mir\u001b[0m\u001b[0;34m[\u001b[0m\u001b[0;36m2\u001b[0m\u001b[0;34m]\u001b[0m\u001b[0;34m)\u001b[0m\u001b[0;34m,\u001b[0m \u001b[0;34m\"%Y-%m-%d %H:%M:%S\"\u001b[0m\u001b[0;34m)\u001b[0m\u001b[0;34m,\u001b[0m \u001b[0;34m'title'\u001b[0m \u001b[0;34m:\u001b[0m \u001b[0;34m'S'\u001b[0m\u001b[0;34m,\u001b[0m \u001b[0;34m'text'\u001b[0m \u001b[0;34m:\u001b[0m \u001b[0mstr\u001b[0m\u001b[0;34m(\u001b[0m\u001b[0mir\u001b[0m\u001b[0;34m[\u001b[0m\u001b[0;36m2\u001b[0m\u001b[0;34m]\u001b[0m\u001b[0;34m)\u001b[0m \u001b[0;34m}\u001b[0m\u001b[0;34m\u001b[0m\u001b[0m\n\u001b[0m\u001b[1;32m     41\u001b[0m         \u001b[0msell_data\u001b[0m\u001b[0;34m.\u001b[0m\u001b[0mappend\u001b[0m\u001b[0;34m(\u001b[0m\u001b[0msell_flag\u001b[0m\u001b[0;34m)\u001b[0m\u001b[0;34m\u001b[0m\u001b[0m\n\u001b[1;32m     42\u001b[0m     \u001b[0;32mif\u001b[0m \u001b[0;32mnot\u001b[0m \u001b[0mstr\u001b[0m\u001b[0;34m(\u001b[0m\u001b[0mir\u001b[0m\u001b[0;34m[\u001b[0m\u001b[0;36m3\u001b[0m\u001b[0;34m]\u001b[0m\u001b[0;34m)\u001b[0m \u001b[0;34m==\u001b[0m \u001b[0;34m'nan'\u001b[0m\u001b[0;34m:\u001b[0m\u001b[0;34m\u001b[0m\u001b[0m\n",
      "\u001b[0;32m/home/user/anaconda3/lib/python3.5/_strptime.py\u001b[0m in \u001b[0;36m_strptime_datetime\u001b[0;34m(cls, data_string, format)\u001b[0m\n\u001b[1;32m    508\u001b[0m     \"\"\"Return a class cls instance based on the input string and the\n\u001b[1;32m    509\u001b[0m     format string.\"\"\"\n\u001b[0;32m--> 510\u001b[0;31m     \u001b[0mtt\u001b[0m\u001b[0;34m,\u001b[0m \u001b[0mfraction\u001b[0m \u001b[0;34m=\u001b[0m \u001b[0m_strptime\u001b[0m\u001b[0;34m(\u001b[0m\u001b[0mdata_string\u001b[0m\u001b[0;34m,\u001b[0m \u001b[0mformat\u001b[0m\u001b[0;34m)\u001b[0m\u001b[0;34m\u001b[0m\u001b[0m\n\u001b[0m\u001b[1;32m    511\u001b[0m     \u001b[0mtzname\u001b[0m\u001b[0;34m,\u001b[0m \u001b[0mgmtoff\u001b[0m \u001b[0;34m=\u001b[0m \u001b[0mtt\u001b[0m\u001b[0;34m[\u001b[0m\u001b[0;34m-\u001b[0m\u001b[0;36m2\u001b[0m\u001b[0;34m:\u001b[0m\u001b[0;34m]\u001b[0m\u001b[0;34m\u001b[0m\u001b[0m\n\u001b[1;32m    512\u001b[0m     \u001b[0margs\u001b[0m \u001b[0;34m=\u001b[0m \u001b[0mtt\u001b[0m\u001b[0;34m[\u001b[0m\u001b[0;34m:\u001b[0m\u001b[0;36m6\u001b[0m\u001b[0;34m]\u001b[0m \u001b[0;34m+\u001b[0m \u001b[0;34m(\u001b[0m\u001b[0mfraction\u001b[0m\u001b[0;34m,\u001b[0m\u001b[0;34m)\u001b[0m\u001b[0;34m\u001b[0m\u001b[0m\n",
      "\u001b[0;32m/home/user/anaconda3/lib/python3.5/_strptime.py\u001b[0m in \u001b[0;36m_strptime\u001b[0;34m(data_string, format)\u001b[0m\n\u001b[1;32m    341\u001b[0m     \u001b[0;32mif\u001b[0m \u001b[0;32mnot\u001b[0m \u001b[0mfound\u001b[0m\u001b[0;34m:\u001b[0m\u001b[0;34m\u001b[0m\u001b[0m\n\u001b[1;32m    342\u001b[0m         raise ValueError(\"time data %r does not match format %r\" %\n\u001b[0;32m--> 343\u001b[0;31m                          (data_string, format))\n\u001b[0m\u001b[1;32m    344\u001b[0m     \u001b[0;32mif\u001b[0m \u001b[0mlen\u001b[0m\u001b[0;34m(\u001b[0m\u001b[0mdata_string\u001b[0m\u001b[0;34m)\u001b[0m \u001b[0;34m!=\u001b[0m \u001b[0mfound\u001b[0m\u001b[0;34m.\u001b[0m\u001b[0mend\u001b[0m\u001b[0;34m(\u001b[0m\u001b[0;34m)\u001b[0m\u001b[0;34m:\u001b[0m\u001b[0;34m\u001b[0m\u001b[0m\n\u001b[1;32m    345\u001b[0m         raise ValueError(\"unconverted data remains: %s\" %\n",
      "\u001b[0;31mValueError\u001b[0m: time data '1.54296' does not match format '%Y-%m-%d %H:%M:%S'"
     ]
    }
   ],
   "source": [
    "\n",
    "data2 = []\n",
    "for ir in df.itertuples():\n",
    "    date = str(ir[1]) + ' ' + str(ir[2])  \n",
    "    date = datetime.datetime.strptime(date, \"%Y.%m.%d %H:%M\") \n",
    "    data2.append([date,ir[3]]) \n",
    "    \n",
    "\n",
    "\n",
    "\n",
    "\n",
    "kalman = []\n",
    "# series = df['Close']\n",
    "# kf = KalmanFilter(transition_matrices=[1],\n",
    "#                       observation_matrices=[1],\n",
    "#                       initial_state_mean=0,\n",
    "#                       initial_state_covariance=1,\n",
    "#                       observation_covariance=1,\n",
    "#                       transition_covariance=.01)\n",
    "\n",
    "# # Use the observed values of the price to get a rolling mean\n",
    "# state_means, _ = kf.filter(series.values)\n",
    "\n",
    "\n",
    "\n",
    "    \n",
    "\n",
    "# [datetime.datetime(2013,6,3),0.7648]\n",
    "\n",
    "\n",
    "buy_data = []\n",
    "sell_data = []\n",
    "close_data = []\n",
    "for ir in df2.itertuples():\n",
    "#     print(ir[1]) \n",
    "    if not str(ir[1]) == 'nan':\n",
    "        buy_flag = {'x' : datetime.datetime.strptime(str(ir[1]), \"%Y-%m-%d %H:%M:%S\") , 'title' : 'B', 'text' : str(ir[1]) }\n",
    "        buy_data.append(buy_flag)    \n",
    "    if not str(ir[2]) == 'nan':\n",
    "        sell_flag = {'x' : datetime.datetime.strptime(str(ir[2]), \"%Y-%m-%d %H:%M:%S\"), 'title' : 'S', 'text' : str(ir[2]) }\n",
    "        sell_data.append(sell_flag)\n",
    "    if not str(ir[3]) == 'nan':\n",
    "        close_flag = {'x' : datetime.datetime.strptime(str(ir[3]), \"%Y-%m-%d %H:%M:%S\"), 'title' : 'C', 'text' : str(ir[3]) }\n",
    "        close_data.append(close_flag)    "
   ]
  },
  {
   "cell_type": "code",
   "execution_count": null,
   "metadata": {
    "collapsed": false,
    "nbpresent": {
     "id": "7153282b-8f55-4478-b999-c8720ebb8e80"
    }
   },
   "outputs": [],
   "source": [
    "\n",
    "    \n",
    "    \n",
    "# [{\n",
    "#         'x' : datetime.datetime(2015, 6, 8),\n",
    "#         'title' : 'C',\n",
    "#         'text' : 'Stocks fall on Greece, rate concerns; US dollar dips'\n",
    "#     }]\n",
    "\n",
    "# print(data2)    \n",
    "H.add_data_set(data2, 'line', 'USD to EUR', id = 'dataseries')\n",
    "# print(len(close_data))\n",
    "# print(len(buy_data))\n",
    "# print(len(sell_data))\n",
    "\n",
    "# H.add_data_set(close_data[35:], 'flags', onSeries = 'dataseries')\n",
    "\n",
    "# if len(buy_data) > 2:\n",
    "#     H.add_data_set(buy_data, 'flags', onSeries = 'dataseries',\n",
    "#                     shape = 'circlepin',\n",
    "#                     width = 1)\n",
    "# if len(sell_data) > 2:\n",
    "#     H.add_data_set(sell_data, 'flags', onSeries = 'dataseries',\n",
    "#                     shape = 'circlepin',\n",
    "#                     width = 1)\n",
    "\n",
    "\n",
    "\n",
    "options = {\n",
    "    'rangeSelector' : {\n",
    "            'selected' : 1\n",
    "        },\n",
    "\n",
    "    'title' : {\n",
    "        'text' : symbol_list[0]\n",
    "    },\n",
    "}\n",
    "H.set_dict_options(options)\n",
    "\n",
    "\n",
    "H"
   ]
  }
 ],
 "metadata": {
  "anaconda-cloud": {},
  "celltoolbar": "Edit Metadata",
  "kernelspec": {
   "display_name": "Python [conda root]",
   "language": "python",
   "name": "conda-root-py"
  },
  "language_info": {
   "codemirror_mode": {
    "name": "ipython",
    "version": 3
   },
   "file_extension": ".py",
   "mimetype": "text/x-python",
   "name": "python",
   "nbconvert_exporter": "python",
   "pygments_lexer": "ipython3",
   "version": "3.5.2"
  },
  "nbpresent": {
   "slides": {},
   "themes": {}
  }
 },
 "nbformat": 4,
 "nbformat_minor": 0
}
