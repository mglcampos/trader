{
 "cells": [
  {
   "cell_type": "code",
   "execution_count": 11,
   "metadata": {
    "extensions": {
     "jupyter_dashboards": {
      "version": 1,
      "views": {
       "grid_default": {
        "col": 0,
        "height": 4,
        "hidden": false,
        "row": 0,
        "width": 4
       },
       "report_default": {
        "hidden": false
       }
      }
     }
    },
    "scrolled": true
   },
   "outputs": [
    {
     "ename": "ImportError",
     "evalue": "cannot import name 'raise_from'",
     "output_type": "error",
     "traceback": [
      "\u001b[0;31m---------------------------------------------------------------------------\u001b[0m",
      "\u001b[0;31mImportError\u001b[0m                               Traceback (most recent call last)",
      "\u001b[0;32m<ipython-input-11-34874952e6d4>\u001b[0m in \u001b[0;36m<module>\u001b[0;34m()\u001b[0m\n\u001b[1;32m      9\u001b[0m \u001b[0;32mfrom\u001b[0m \u001b[0mbokeh\u001b[0m\u001b[0;34m.\u001b[0m\u001b[0mmodels\u001b[0m\u001b[0;34m.\u001b[0m\u001b[0mlayouts\u001b[0m \u001b[0;32mimport\u001b[0m \u001b[0mColumn\u001b[0m\u001b[0;34m\u001b[0m\u001b[0m\n\u001b[1;32m     10\u001b[0m \u001b[0;32mfrom\u001b[0m \u001b[0mbokeh\u001b[0m\u001b[0;34m.\u001b[0m\u001b[0mlayouts\u001b[0m \u001b[0;32mimport\u001b[0m \u001b[0mgridplot\u001b[0m\u001b[0;34m\u001b[0m\u001b[0m\n\u001b[0;32m---> 11\u001b[0;31m \u001b[0;32mfrom\u001b[0m \u001b[0mbokeh\u001b[0m\u001b[0;34m.\u001b[0m\u001b[0mplotting\u001b[0m \u001b[0;32mimport\u001b[0m \u001b[0mfigure\u001b[0m\u001b[0;34m,\u001b[0m \u001b[0mshow\u001b[0m\u001b[0;34m,\u001b[0m \u001b[0moutput_file\u001b[0m\u001b[0;34m\u001b[0m\u001b[0m\n\u001b[0m\u001b[1;32m     12\u001b[0m \u001b[0;32mfrom\u001b[0m \u001b[0mbokeh\u001b[0m\u001b[0;34m.\u001b[0m\u001b[0mio\u001b[0m \u001b[0;32mimport\u001b[0m \u001b[0moutput_notebook\u001b[0m\u001b[0;34m\u001b[0m\u001b[0m\n\u001b[1;32m     13\u001b[0m \u001b[0;32mfrom\u001b[0m \u001b[0mtabulate\u001b[0m \u001b[0;32mimport\u001b[0m \u001b[0mtabulate\u001b[0m\u001b[0;34m\u001b[0m\u001b[0m\n",
      "\u001b[0;32m/usr/local/lib/python3.4/dist-packages/bokeh/plotting/__init__.py\u001b[0m in \u001b[0;36m<module>\u001b[0;34m()\u001b[0m\n\u001b[1;32m      5\u001b[0m \u001b[0;32mfrom\u001b[0m \u001b[0;34m.\u001b[0m\u001b[0;34m.\u001b[0m\u001b[0mmodels\u001b[0m\u001b[0;34m.\u001b[0m\u001b[0mlayouts\u001b[0m \u001b[0;32mimport\u001b[0m \u001b[0mRow\u001b[0m\u001b[0;34m,\u001b[0m \u001b[0mColumn\u001b[0m\u001b[0;34m;\u001b[0m \u001b[0mRow\u001b[0m\u001b[0;34m,\u001b[0m \u001b[0mColumn\u001b[0m\u001b[0;34m\u001b[0m\u001b[0m\n\u001b[1;32m      6\u001b[0m \u001b[0;34m\u001b[0m\u001b[0m\n\u001b[0;32m----> 7\u001b[0;31m \u001b[0;32mfrom\u001b[0m \u001b[0;34m.\u001b[0m\u001b[0;34m.\u001b[0m\u001b[0mio\u001b[0m \u001b[0;32mimport\u001b[0m \u001b[0mcurdoc\u001b[0m\u001b[0;34m;\u001b[0m \u001b[0mcurdoc\u001b[0m\u001b[0;34m\u001b[0m\u001b[0m\n\u001b[0m\u001b[1;32m      8\u001b[0m \u001b[0;32mfrom\u001b[0m \u001b[0;34m.\u001b[0m\u001b[0;34m.\u001b[0m\u001b[0mio\u001b[0m \u001b[0;32mimport\u001b[0m \u001b[0moutput_file\u001b[0m\u001b[0;34m;\u001b[0m \u001b[0moutput_file\u001b[0m\u001b[0;34m\u001b[0m\u001b[0m\n\u001b[1;32m      9\u001b[0m \u001b[0;32mfrom\u001b[0m \u001b[0;34m.\u001b[0m\u001b[0;34m.\u001b[0m\u001b[0mio\u001b[0m \u001b[0;32mimport\u001b[0m \u001b[0moutput_notebook\u001b[0m\u001b[0;34m;\u001b[0m \u001b[0moutput_notebook\u001b[0m\u001b[0;34m\u001b[0m\u001b[0m\n",
      "\u001b[0;32m/usr/local/lib/python3.4/dist-packages/bokeh/io/__init__.py\u001b[0m in \u001b[0;36m<module>\u001b[0;34m()\u001b[0m\n\u001b[1;32m     26\u001b[0m \u001b[0;32mfrom\u001b[0m \u001b[0;34m.\u001b[0m\u001b[0mdoc\u001b[0m \u001b[0;32mimport\u001b[0m \u001b[0mcurdoc\u001b[0m\u001b[0;34m\u001b[0m\u001b[0m\n\u001b[1;32m     27\u001b[0m \u001b[0;34m\u001b[0m\u001b[0m\n\u001b[0;32m---> 28\u001b[0;31m \u001b[0;32mfrom\u001b[0m \u001b[0;34m.\u001b[0m\u001b[0mexport\u001b[0m \u001b[0;32mimport\u001b[0m \u001b[0mexport_png\u001b[0m\u001b[0;34m\u001b[0m\u001b[0m\n\u001b[0m\u001b[1;32m     29\u001b[0m \u001b[0;32mfrom\u001b[0m \u001b[0;34m.\u001b[0m\u001b[0mexport\u001b[0m \u001b[0;32mimport\u001b[0m \u001b[0mexport_svgs\u001b[0m\u001b[0;34m\u001b[0m\u001b[0m\n\u001b[1;32m     30\u001b[0m \u001b[0;34m\u001b[0m\u001b[0m\n",
      "\u001b[0;32m/usr/local/lib/python3.4/dist-packages/bokeh/io/export.py\u001b[0m in \u001b[0;36m<module>\u001b[0;34m()\u001b[0m\n\u001b[1;32m     14\u001b[0m \u001b[0;31m#-----------------------------------------------------------------------------\u001b[0m\u001b[0;34m\u001b[0m\u001b[0;34m\u001b[0m\u001b[0m\n\u001b[1;32m     15\u001b[0m \u001b[0;32mfrom\u001b[0m \u001b[0m__future__\u001b[0m \u001b[0;32mimport\u001b[0m \u001b[0mabsolute_import\u001b[0m\u001b[0;34m,\u001b[0m \u001b[0mdivision\u001b[0m\u001b[0;34m,\u001b[0m \u001b[0mprint_function\u001b[0m\u001b[0;34m,\u001b[0m \u001b[0municode_literals\u001b[0m\u001b[0;34m\u001b[0m\u001b[0m\n\u001b[0;32m---> 16\u001b[0;31m \u001b[0;32mfrom\u001b[0m \u001b[0msix\u001b[0m \u001b[0;32mimport\u001b[0m \u001b[0mraise_from\u001b[0m\u001b[0;34m\u001b[0m\u001b[0m\n\u001b[0m\u001b[1;32m     17\u001b[0m \u001b[0;34m\u001b[0m\u001b[0m\n\u001b[1;32m     18\u001b[0m \u001b[0;32mimport\u001b[0m \u001b[0mlogging\u001b[0m\u001b[0;34m\u001b[0m\u001b[0m\n",
      "\u001b[0;31mImportError\u001b[0m: cannot import name 'raise_from'"
     ]
    }
   ],
   "source": [
    "## Imports\n",
    "\n",
    "import pandas as pd\n",
    "import numpy as np\n",
    "import os\n",
    "import datetime\n",
    "from datetime import timedelta\n",
    "from bokeh.models import HoverTool, ColumnDataSource, BoxZoomTool\n",
    "from bokeh.models.layouts import Column\n",
    "from bokeh.layouts import gridplot\n",
    "from bokeh.plotting import figure, show, output_file\n",
    "from bokeh.io import output_notebook\n",
    "from tabulate import tabulate\n",
    "import talib\n",
    "from pykalman import KalmanFilter\n",
    "pd.set_option(\"display.max_rows\",1000)\n",
    "#init_notebook_mode()"
   ]
  },
  {
   "cell_type": "code",
   "execution_count": null,
   "metadata": {
    "extensions": {
     "jupyter_dashboards": {
      "version": 1,
      "views": {
       "grid_default": {
        "col": 4,
        "height": 12,
        "hidden": false,
        "row": 23,
        "width": 8
       },
       "report_default": {
        "hidden": false
       }
      }
     }
    },
    "scrolled": false
   },
   "outputs": [],
   "source": [
    "## Load data (e.g. Price series, reports, equity, etc)\n",
    "\n",
    "# obter simbolos e filenames do json\n",
    "symbol_data = {}\n",
    "signals = {}\n",
    "reportf = pd.read_json(os.path.abspath('reportf.json'), typ='series')\n",
    "symbol_list = reportf['instruments']\n",
    "#reportf['notes'] = 'OLS regression'\n",
    "#reportf['volatility'] = {'EUR/AUD': 0.0821, 'EUR/NZD': 0.1021} \n",
    "#reportf['strategy'] = 'Intraday OLSHR'\n",
    "#reportf['instruments'] = ['EUR/AUD', 'EUR/NZD']    \n",
    "reportf = reportf.rename(columns={'consecutive_losses': 'Consecutive Losses', 'consecutive_wins ': 'Consecutive Wins '})\n",
    "\n",
    "for file in reportf['files']:\n",
    "    instrument = file['symbol']\n",
    "    s = instrument.replace('/', '') + '_report'\n",
    "    symbol_data[instrument] = pd.io.parsers.read_csv(file['path'][0], index_col='Datetime', parse_dates=True, names=reportf['header'])   \n",
    "    \n",
    "    \n",
    "    signals[instrument] =  pd.io.parsers.read_csv(os.path.abspath('% s.csv' % s),\n",
    "                                        parse_dates=True,\n",
    "                                        names=['Buy','Buy_Y', 'Sell','Sell_Y', 'Close', 'Close_Y']\n",
    "                                        )\n",
    "        \n",
    "    signals[instrument]['Buy'] = pd.to_datetime(signals[instrument]['Buy'])\n",
    "    signals[instrument]['Sell'] = pd.to_datetime(signals[instrument]['Sell'])\n",
    "    signals[instrument]['Close'] = pd.to_datetime(signals[instrument]['Close'])\n",
    "\n",
    "    symbol_data[instrument]['SMA10'] = pd.rolling_mean(symbol_data[instrument]['Close'], 10)\n",
    "    symbol_data[instrument]['SMA20'] = pd.rolling_mean(symbol_data[instrument]['Close'], 20)\n",
    "    symbol_data[instrument]['SMA50'] = pd.rolling_mean(symbol_data[instrument]['Close'], 50)\n",
    "    symbol_data[instrument]['SMA100'] = pd.rolling_mean(symbol_data[instrument]['Close'], 100)\n",
    "    symbol_data[instrument]['SMA200'] = pd.rolling_mean(symbol_data[instrument]['Close'], 200)   \n",
    " \n",
    "equity =  pd.io.parsers.read_csv(os.path.abspath('% s.csv' % 'equity'),\n",
    "                                        parse_dates=True, header=0,\n",
    "                                        names=['Datetime','Position', 'Cash','Comission', 'Total', 'Returns', 'Equity_Curve', 'Drawdown']\n",
    "                                        ).dropna()\n",
    "\n",
    "# print(equity.head())  \n",
    "equity['Datetime'] = pd.to_datetime(equity['Datetime'])\n",
    "# print(equity['Datetime'])  \n",
    "# equity = equity.set_index(equity['Datetime'].values)\n",
    "# print(equity.head())  \n",
    "\n"
   ]
  },
  {
   "cell_type": "code",
   "execution_count": null,
   "metadata": {},
   "outputs": [],
   "source": [
    "## Show stats\n",
    "\n",
    "print(tabulate(reportf.to_frame(), tablefmt=\"fancy_grid\"))"
   ]
  },
  {
   "cell_type": "code",
   "execution_count": null,
   "metadata": {
    "extensions": {
     "jupyter_dashboards": {
      "version": 1,
      "views": {
       "grid_default": {
        "col": 0,
        "height": 12,
        "hidden": false,
        "row": 4,
        "width": 4
       },
       "report_default": {
        "hidden": false
       }
      }
     }
    }
   },
   "outputs": [],
   "source": [
    "## Process data\n",
    "\n",
    "'''\n",
    "for instrument in symbol_list:\n",
    "    df = symbol_data[instrument]\n",
    "    date_index = []\n",
    "    #df.head()\n",
    "\n",
    "    for ir in df.itertuples():\n",
    "        date = str(ir[1]) + ' ' + str(ir[2])\n",
    "        # print date\n",
    "        date = datetime.datetime.strptime(date, \"%Y.%m.%d %H:%M\")\n",
    "        date_index.append(date)\n",
    "        previousdata20 = date + timedelta(minutes=-20)\n",
    "        previousdata50 = date + timedelta(minutes=-50)\n",
    "        previousdata100 = date + timedelta(minutes=-100)\n",
    "        previousdata200 = date + timedelta(minutes=-200)\n",
    "        if date.weekday() == 6:\n",
    "            if previousdata20.weekday() != 6:\n",
    "                ir[4] = None\n",
    "            if previousdata50.weekday() != 6:\n",
    "                ir[5] = None\n",
    "            if previousdata100.weekday() != 6:\n",
    "                ir[6] = None\n",
    "            if previousdata200.weekday() != 6:\n",
    "                ir[7] = None    \n",
    "\n",
    "    symbol_data[instrument] = df.set_index([date_index])\n",
    "#     print df.head()\n",
    "'''"
   ]
  },
  {
   "cell_type": "code",
   "execution_count": null,
   "metadata": {
    "scrolled": false
   },
   "outputs": [],
   "source": [
    "## Plot price and slope\n",
    "## todo make sure indexes have the same size so plots are linked\n",
    "\n",
    "output_notebook()\n",
    "output_file(\"slopes.html\")\n",
    "\n",
    "plots = []\n",
    "hover={}\n",
    "tools={}\n",
    "\n",
    "for instrument in symbol_list:\n",
    "    df = symbol_data[instrument] \n",
    "    series = talib.LINEARREG_SLOPE(df['Close'].values, timeperiod=14)\n",
    "    price_series = df['Close']\n",
    "\n",
    "    kf = KalmanFilter(transition_matrices=[1],\n",
    "                          observation_matrices=[1],\n",
    "                          initial_state_mean=0,\n",
    "                          initial_state_covariance=1,\n",
    "                          observation_covariance=1,\n",
    "                          transition_covariance=.01)\n",
    "\n",
    "        # Use the observed values of the price to get a rolling mean\n",
    "    state_means, _ = kf.filter(series)\n",
    "    state_means = pd.Series(state_means.flatten())\n",
    "\n",
    "    price_means, _ = kf.filter(price_series.values)\n",
    "    price_means = pd.Series(price_means.flatten(), index=price_series.index)\n",
    "\n",
    "    upperband, middleband, lowerband = talib.BBANDS(series, timeperiod=20, nbdevup=0.5, nbdevdn=1, matype=0)\n",
    "    std = np.std(series) / 3\n",
    "    kalmanupperband = std + state_means.values\n",
    "    kalmanlowerband = state_means.values - std\n",
    "    \n",
    "    \n",
    "    p1 = figure(x_axis_type=\"datetime\")   \n",
    "    p1.grid.grid_line_alpha=0.3\n",
    "    p1.xaxis.axis_label = 'Date'\n",
    "    p1.yaxis.axis_label = 'Price'\n",
    "\n",
    "    hover[instrument] = HoverTool(\n",
    "            tooltips=[    \n",
    "                (\"\", \"$y{1.1111}\"),            \n",
    "            ]\n",
    "        )\n",
    "    \n",
    "    ## intersection by index, fix this\n",
    "   \n",
    "    #pct.index = series.index.map(lambda x: datetime.datetime.fromtimestamp(int(x)).strftime('%Y-%m-%d %H:%M:%S'))\n",
    "    #print(signals[instrument]['Buy'].values)\n",
    "    #buy = series.loc(axis=0)[signals[instrument]['Buy'].values,:]\n",
    "    #sell = series.loc(axis=0)[signals[instrument]['Sell'].values,:]\n",
    "    #close = series.loc(axis=0)[signals[instrument]['Close'].values,:]\n",
    "    \n",
    "    tools[instrument] = [hover[instrument], 'reset', 'box_select', 'pan','xzoom_out', 'yzoom_out', 'xwheel_zoom', 'ywheel_zoom','xbox_zoom', 'ybox_zoom']\n",
    "    #print(len(buy), len(state_means), len(pct), len(signals[instrument]['Buy'].values) )\n",
    "   \n",
    "    p1 = figure(output_backend=\"webgl\", tools=tools[instrument], plot_width=900, x_axis_type=\"datetime\", title=str(instrument) + \" Slopes\")\n",
    "    p1.line(df.index.values, series, color='#008000', legend=str(instrument)+' slope')\n",
    "    p1.line(df.index.values, state_means.values, color='purple', legend='Kalman Filter')\n",
    "    #p1.triangle(signals[instrument]['Buy'].values, buy.values, color='red', legend='OPEN-BUY orders', size=7)\n",
    "    #p1.inverted_triangle(signals[instrument]['Sell'].values,sell.values, color='blue', legend='OPEN-SELL orders', size=7)\n",
    "    #p1.square(signals[instrument]['Close'].values, close.values, color='black', legend='CLOSE orders', size=6)\n",
    "    p1.line(df.index.values, upperband, color='orange', legend='BB')\n",
    "    p1.line(df.index.values, middleband, color='red', legend='SMA20')\n",
    "    p1.line(df.index.values, lowerband, color='orange', legend='BB')\n",
    "    p1.line(df.index.values, kalmanupperband, color='blue', legend='KalmanB') \n",
    "    p1.line(df.index.values, kalmanlowerband, color='blue', legend='KalmanB')\n",
    "    plots.append(p1)  \n",
    "    \n",
    "    print(len(signals[instrument]),len(price_means), len(df['Close'].values))\n",
    "    \n",
    "    p2 = figure(output_backend=\"webgl\", tools=tools[instrument], x_axis_type=\"datetime\", title=str(instrument) + \" Signals\", plot_width=900)\n",
    "    source = ColumnDataSource(data=dict(x=df.index.values, y1=df['Close'].values))\n",
    "    p2.line('x', 'y1', color='olive', legend=symbol_list[0], source=source)\n",
    "    p2.line(df.index.values, price_means.values, color='purple', legend='Kalman Filter')\n",
    "    p2.circle('x', 'y1', fill_color='white', size=6, legend=symbol_list[0], source=source)   \n",
    "    p2.triangle(signals[instrument]['Buy'].values, signals[instrument]['Buy_Y'].values, color='red', legend='OPEN-BUY orders', size=7)\n",
    "    p2.inverted_triangle(signals[instrument]['Sell'].values, signals[instrument]['Sell_Y'].values, color='blue', legend='OPEN-SELL orders', size=7)\n",
    "    p2.square(signals[instrument]['Close'].values, signals[instrument]['Close_Y'].values, color='black', legend='CLOSE orders', size=7)\n",
    "    plots.append(p2)\n",
    "    \n",
    "p = Column(children=plots)\n",
    "show(p)\n"
   ]
  },
  {
   "cell_type": "code",
   "execution_count": null,
   "metadata": {
    "extensions": {
     "jupyter_dashboards": {
      "version": 1,
      "views": {
       "grid_default": {
        "col": 4,
        "height": 23,
        "hidden": false,
        "row": 0,
        "width": 7
       },
       "report_default": {
        "hidden": false
       }
      }
     }
    },
    "scrolled": false
   },
   "outputs": [],
   "source": [
    "output_notebook()\n",
    "output_file(\"returns.html\")\n",
    "\n",
    "plots = []\n",
    "\n",
    "for instrument in symbol_list:\n",
    "    \n",
    "    df = symbol_data[instrument]\n",
    "    df2 = signals[instrument]\n",
    "    \n",
    "    source = ColumnDataSource(data=dict(x=df.index.values, y1=df['Close'].values, y2=equity['Returns'].values[:-2]))\n",
    "    upperband, middleband, lowerband = talib.BBANDS(df['Close'].values, timeperiod=20, nbdevup=1, nbdevdn=2, matype=0)\n",
    "    ema12 = talib.EMA(df['Close'].values, timeperiod=12)\n",
    "    ema26 = talib.EMA(df['Close'].values, timeperiod=26)\n",
    "    ema200 = talib.EMA(df['Close'].values, timeperiod=200)\n",
    "    slope = talib.LINEARREG_SLOPE(df['Close'].values, timeperiod=14)  \n",
    "    slopeupperband, slopemiddleband, slopelowerband = talib.BBANDS(slope, timeperiod=20, nbdevup=1, nbdevdn=1, matype=0)\n",
    "\n",
    "    kf = KalmanFilter(transition_matrices=[1],\n",
    "                          observation_matrices=[1],\n",
    "                          initial_state_mean=0,\n",
    "                          initial_state_covariance=1,\n",
    "                          observation_covariance=1,\n",
    "                          transition_covariance=.01)\n",
    "\n",
    "        # Use the observed values of the price to get a rolling mean\n",
    "\n",
    "    kalman, _ = kf.filter(df['Close'].values)\n",
    "    kalman = kalman.flatten()\n",
    "    tools = ['reset', 'box_select', 'pan','zoom_out' ,'xwheel_zoom', 'ywheel_zoom','xbox_zoom', 'ybox_zoom']\n",
    "\n",
    "    hover = HoverTool(\n",
    "            tooltips=(\"$y{1.1111}\"))\n",
    "\n",
    "    # p = figure(plot_width=400, plot_height=400, tools=[hover],\n",
    "    #            title=\"Mouse over the dots\n",
    "    tools_hover = [hover, 'reset', 'box_select', 'pan','zoom_out', 'xwheel_zoom', 'ywheel_zoom','xbox_zoom', 'ybox_zoom']\n",
    "    p1 = figure(output_backend=\"webgl\", tools=tools_hover, x_axis_type=\"datetime\", title=\"Signals\", plot_width=900)\n",
    "    p1.toolbar.active_drag = None\n",
    "    # dates = df.index.apply(lambda x: dt.datetime.strptime(df.index.values,\"%Y.%m.%d %H:%M\"))\n",
    "    p1.line('x', 'y1', color='olive', legend=symbol_list[0], source=source)\n",
    "    p1.circle('x', 'y1', fill_color='white', size=6, legend=symbol_list[0], source=source)\n",
    "    p1.triangle(df2['Buy'].values, df2['Buy_Y'].values, color='red', legend='OPEN-BUY orders', size=7)\n",
    "    p1.inverted_triangle(df2['Sell'].values, df2['Sell_Y'].values, color='blue', legend='OPEN-SELL orders', size=7)\n",
    "    p1.square(df2['Close'].values, df2['Close_Y'].values, color='black', legend='CLOSE orders', size=7)\n",
    "    p1.line(df.index.values, upperband, color='orange', legend='BB')\n",
    "    #p1.line(df.index.values, middleband, color='red', legend='SMA20')\n",
    "    p1.line(df.index.values, lowerband, color='orange', legend='BB')\n",
    "    p1.line(df.index.values, ema12, color='darkblue', legend='EMA12')\n",
    "    #p1.line(df.index.values, ema200, color='blue', legend='EMA200')\n",
    "    p1.line(df.index.values, ema26, color='green', legend='EMA26')\n",
    "    p1.line(df.index.values, kalman, color='red', legend='Kalman Filter')\n",
    "    #p1.line(df.index.values, df['SMA10'].values, color='blue', legend='SMA10')\n",
    "    # p1.line(df.index.values, df['SMA20'].values, color='orange', legend='SMA20')\n",
    "    #p1.line(df.index.values, df['SMA50'].values, color='purple', legend='SMA50')\n",
    "    #p1.line(df.index.values, df['SMA100'].values, color='brown', legend='SMA100')\n",
    "    #p1.line(df.index.values, df['SMA200'].values, color='pink', legend='SMA200')\n",
    "    plots.append(p1)\n",
    "    \n",
    "    p2 = figure(output_backend=\"webgl\", tools=tools, x_axis_type=\"datetime\", title=\"Returns\", plot_width=900)\n",
    "    p2.segment('x', 0, 'x','y2', color=\"red\", source=source, legend='Returns')\n",
    "    p2.circle('x', 'y2', fill_color=\"red\", size=6, source=source, line_color='red', line_alpha=0)\n",
    "    plots.append(p2)\n",
    "    \n",
    "\n",
    "    p3 = figure(output_backend=\"webgl\", tools=tools, x_axis_type=\"datetime\", title=\"Slope\", plot_width=900)\n",
    "    p3.line(df.index.values, slope, color='black', legend='Slope')\n",
    "    p3.circle(df.index.values, slope, color='black', legend='Slope')\n",
    "    p3.line(df.index.values, slopeupperband, color='orange', legend='BB')\n",
    "    p3.line(df.index.values, slopemiddleband, color='red', legend='SMA20')\n",
    "    p3.line(df.index.values, slopelowerband, color='orange', legend='BB')\n",
    "    # p3.line('x', 'y3', color=\"yellow\", source=source, legend='Drawdown')\n",
    "    # p3.circle('x', 'y3', fill_color=\"yellow\", size=6, source=source, line_color='yellow', line_alpha=0)\n",
    "    plots.append(p3)\n",
    "    \n",
    "    # p2 = figure()\n",
    "    # p2.circle('x', 'y2', color=\"olive\", alpha=0.5, source=source)\n",
    "\n",
    "    # p = gridplot([[p1], [p2]])\n",
    "    # p = vplot(p1, p2)\n",
    "p = Column(children=plots)\n",
    "show(p)\n"
   ]
  },
  {
   "cell_type": "code",
   "execution_count": null,
   "metadata": {
    "scrolled": false
   },
   "outputs": [],
   "source": [
    "source = ColumnDataSource(data=dict(x=equity['Datetime'].values[1:], y1=equity['Equity_Curve'].values[1:], y2=equity['Drawdown'].values[1:]))\n",
    "print(equity.head())\n",
    "# print(equity['Equity_Curve'].values[1:])\n",
    "# print(equity['Drawdown'].values[1:])\n",
    "# print equity['Datetime']\n",
    "tools = ['reset', 'box_select', 'pan','xzoom_out', 'yzoom_out', 'xwheel_zoom', 'ywheel_zoom','xbox_zoom', 'ybox_zoom']\n",
    "\n",
    "p1 = figure(output_backend=\"webgl\", tools=tools, x_axis_type=\"datetime\", title=\"Equity Curve\", plot_width=900)\n",
    "# dates = df.index.apply(lambda x: dt.datetime.strptime(df.index.values,\"%Y.%m.%d %H:%M\"))\n",
    "p1.line('x', 'y1', color='blue', legend='Equity Curve', source=source)\n",
    "p1.circle('x', 'y1', fill_color='blue', size=6, legend='Equity Curve', source=source)\n",
    "\n",
    "\n",
    "p2 = figure(output_backend=\"webgl\", tools=tools, x_axis_type=\"datetime\", title=\"Drawdown\", plot_width=900)\n",
    "p2.segment('x', 0, 'x','y2', color=\"red\", source=source, legend='Drawdown')\n",
    "p2.circle('x', 'y2', fill_color=\"red\", size=6, source=source, line_color='red', line_alpha=0)\n",
    "\n",
    "# p2 = figure(webgl=True, tools=tools, x_axis_type=\"datetime\")\n",
    "# p2.line('x', 'y2', color=\"red\", source=source, legend='Drawdown')\n",
    "# p2.circle('x', 'y2', fill_color=\"red\", size=6, source=source, line_color='red', line_alpha=0)\n",
    "output_file(\"equity.html\")\n",
    "\n",
    "p = Column(children=[p1,p2])\n",
    "show(p)\n",
    "# factors = [\"a\", \"b\", \"c\", \"d\", \"e\", \"f\", \"g\", \"h\"]\n",
    "# x =  [50, 40, 65, 10, 25, 37, 80, 60]\n",
    "\n",
    "# dot = figure(title=\"Categorical Dot Plot\", tools=\"\", toolbar_location=None,\n",
    "#             y_range=factors, x_range=[0,100])\n",
    "\n",
    "# dot.segment(0, factors, x, factors, line_width=2, line_color=\"green\", )\n",
    "# dot.circle(x, factors, size=15, fill_color=\"orange\", line_color=\"green\", line_width=3, )\n",
    "\n",
    "# "
   ]
  },
  {
   "cell_type": "code",
   "execution_count": null,
   "metadata": {
    "scrolled": true
   },
   "outputs": [],
   "source": [
    "\n",
    "\n",
    "      "
   ]
  },
  {
   "cell_type": "code",
   "execution_count": null,
   "metadata": {
    "scrolled": false
   },
   "outputs": [],
   "source": []
  },
  {
   "cell_type": "code",
   "execution_count": null,
   "metadata": {},
   "outputs": [],
   "source": []
  }
 ],
 "metadata": {
  "anaconda-cloud": {},
  "extensions": {
   "jupyter_dashboards": {
    "activeView": "grid_default",
    "version": 1,
    "views": {
     "grid_default": {
      "cellMargin": 10,
      "defaultCellHeight": 20,
      "maxColumns": 12,
      "name": "grid",
      "type": "grid"
     },
     "report_default": {
      "name": "report",
      "type": "report"
     }
    }
   }
  },
  "kernelspec": {
   "display_name": "Python 3",
   "language": "python",
   "name": "python3"
  },
  "language_info": {
   "codemirror_mode": {
    "name": "ipython",
    "version": 3
   },
   "file_extension": ".py",
   "mimetype": "text/x-python",
   "name": "python",
   "nbconvert_exporter": "python",
   "pygments_lexer": "ipython3",
   "version": "3.4.2"
  }
 },
 "nbformat": 4,
 "nbformat_minor": 2
}
